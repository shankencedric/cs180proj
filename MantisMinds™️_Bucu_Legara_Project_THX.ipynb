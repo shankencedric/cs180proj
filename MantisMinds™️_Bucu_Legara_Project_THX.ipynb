{
  "nbformat": 4,
  "nbformat_minor": 0,
  "metadata": {
    "colab": {
      "provenance": [],
      "authorship_tag": "ABX9TyM4FZ72lbUff5j/5y7cq1IM",
      "include_colab_link": true
    },
    "kernelspec": {
      "name": "python3",
      "display_name": "Python 3"
    },
    "language_info": {
      "name": "python"
    }
  },
  "cells": [
    {
      "cell_type": "markdown",
      "metadata": {
        "id": "view-in-github",
        "colab_type": "text"
      },
      "source": [
        "<a href=\"https://colab.research.google.com/github/shankencedric/cs180proj/blob/main/MantisMinds%E2%84%A2%EF%B8%8F_Bucu_Legara_Project_THX.ipynb\" target=\"_parent\"><img src=\"https://colab.research.google.com/assets/colab-badge.svg\" alt=\"Open In Colab\"/></a>"
      ]
    },
    {
      "cell_type": "markdown",
      "source": [
        "# **CS 180 Introduction to AI | Final Project**\n",
        "\n",
        "Group Name: **MantisMinds™️** \\\n",
        "Section: *THX (2:30-4:00pm)* \\\n",
        "Members: \\\n",
        "- **BUCU, Clarisse Bianca C.** ---------- *2020-08925*\n",
        "- **LEGARA, Sean Ken Cedric G.** ---- *2021-08117* \\\n",
        "\n",
        "\n",
        "\n",
        "\n"
      ],
      "metadata": {
        "id": "yE_jpeO6KYem"
      }
    },
    {
      "cell_type": "code",
      "execution_count": null,
      "metadata": {
        "id": "v1yje8cEKMsI"
      },
      "outputs": [],
      "source": []
    }
  ]
}